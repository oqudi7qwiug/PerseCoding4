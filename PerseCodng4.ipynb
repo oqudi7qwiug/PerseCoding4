{
  "nbformat": 4,
  "nbformat_minor": 0,
  "metadata": {
    "colab": {
      "provenance": [],
      "authorship_tag": "ABX9TyP9nIjXGvOlLRZXmE1IZBe0",
      "include_colab_link": true
    },
    "kernelspec": {
      "name": "python3",
      "display_name": "Python 3"
    },
    "language_info": {
      "name": "python"
    }
  },
  "cells": [
    {
      "cell_type": "markdown",
      "metadata": {
        "id": "view-in-github",
        "colab_type": "text"
      },
      "source": [
        "<a href=\"https://colab.research.google.com/github/oqudi7qwiug/PerseCoding4/blob/main/PerseCodng4.ipynb\" target=\"_parent\"><img src=\"https://colab.research.google.com/assets/colab-badge.svg\" alt=\"Open In Colab\"/></a>"
      ]
    },
    {
      "cell_type": "markdown",
      "source": [
        "Q4) Your program should accept two lines of input. The first will be a word x (max 100\n",
        "characters without spaces) and the second will be a positive whole number y (max 100). The\n",
        "program must print a single line of output which is the reverse of x repeated without spaces y\n",
        "times.\n",
        "Sample i"
      ],
      "metadata": {
        "id": "s3fugxsBMjbC"
      }
    },
    {
      "cell_type": "code",
      "source": [
        "x = \"hello\"\n",
        "\n",
        "x_reversed=\"\"\n",
        "\n",
        "y = 4\n",
        "\n",
        "if y <= 100 and len(x) <= 100:\n",
        "\n",
        " for string_element in range(len(x)-1, -1, -1):\n",
        "    x_reversed += x[string_element]\n",
        " for i in range(y):\n",
        "  if len(x_reversed) == len(x):\n",
        "  print(x_reversed, end=\"\")\n",
        "\n",
        "\n",
        "\n"
      ],
      "metadata": {
        "id": "Sc4bJihuMuYs",
        "colab": {
          "base_uri": "https://localhost:8080/"
        },
        "outputId": "fa2fcac4-10ec-4aab-e0af-801a0b7064ef"
      },
      "execution_count": 35,
      "outputs": [
        {
          "output_type": "stream",
          "name": "stdout",
          "text": [
            "olleholleholleholleh"
          ]
        }
      ]
    }
  ]
}